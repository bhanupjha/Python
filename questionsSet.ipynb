{
 "cells": [
  {
   "cell_type": "code",
   "execution_count": null,
   "metadata": {},
   "outputs": [],
   "source": [
    "# Q.No.1.  Write a Python program to calculate the area of a rectangle with a length of 8 units and a width of 5 units.\n",
    "\n",
    "length = 8\n",
    "width = 5\n",
    "\n",
    "print(\"Area of rectangle: \", length* width)"
   ]
  },
  {
   "cell_type": "code",
   "execution_count": null,
   "metadata": {},
   "outputs": [],
   "source": [
    "# Through user input\n",
    "\n",
    "length = int(input(\"Enter the length: \"))\n",
    "width = int(input(\"Enter the width: \"))\n",
    "area = length * width\n",
    "\n",
    "print(\"Area of rectangle is: \", area)"
   ]
  },
  {
   "cell_type": "code",
   "execution_count": null,
   "metadata": {},
   "outputs": [],
   "source": [
    "# Q.No. 2. Calculate the average of three numbers: 15, 22, and 30\n",
    "\n",
    "num1 = 15\n",
    "num2 = 22\n",
    "num3 = 30\n",
    "average = (num1 + num2 + num3)/3\n",
    "print(\"Average of three numbers: \",average)"
   ]
  },
  {
   "cell_type": "code",
   "execution_count": null,
   "metadata": {},
   "outputs": [],
   "source": [
    "# Q.No. 3. Given two variables x = 15 and y = 20, write a program that checks if x is less than y. Print the result.\n",
    "\n",
    "x = 15\n",
    "y = 20\n",
    "\n",
    "if x < y:\n",
    "    print(\"x is less than y\")\n",
    "else:\n",
    "    print(\"x is greater than or equal to y\")    "
   ]
  },
  {
   "cell_type": "code",
   "execution_count": null,
   "metadata": {},
   "outputs": [],
   "source": [
    "# Q.No. 4. Write a program that checks if a number is divisible by both 3 and 5. If the condition is met, print \"Number is divisible by 3 and 5.\"\n",
    "\n",
    "number = int(input(\"Enter the number: \"))\n",
    "\n",
    "if number % 3 == 0 and number % 5 == 0:\n",
    "    print(\"Number is divisible by 3 and 5\")\n",
    "else:\n",
    "    print(\"Not divisible\")    "
   ]
  }
 ],
 "metadata": {
  "kernelspec": {
   "display_name": "Python 3",
   "language": "python",
   "name": "python3"
  },
  "language_info": {
   "codemirror_mode": {
    "name": "ipython",
    "version": 3
   },
   "file_extension": ".py",
   "mimetype": "text/x-python",
   "name": "python",
   "nbconvert_exporter": "python",
   "pygments_lexer": "ipython3",
   "version": "3.11.4"
  }
 },
 "nbformat": 4,
 "nbformat_minor": 2
}
