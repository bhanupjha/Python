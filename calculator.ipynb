{
 "cells": [
  {
   "cell_type": "code",
   "execution_count": 1,
   "metadata": {},
   "outputs": [
    {
     "name": "stdout",
     "output_type": "stream",
     "text": [
      "Addition of 6 and 7 is:  13\n",
      "Subtraction of 6 and 3 is:  -1\n",
      "Multiplication of 4 and 3 is:  42\n",
      "Addition of 6 and 7 is:  279936\n",
      "Division of 6 and 7 is:  0.8571428571428571\n"
     ]
    }
   ],
   "source": [
    "# Create a calculator capable of performing addition, subtraction, multiplication and division operations on two numbers.\n",
    "a = int(input(\"Enter the First number: \"))\n",
    "b = int(input(\"Enter the second number: \"))\n",
    "\n",
    "\n",
    "print(\"Addition of\",a,\"and\",b,\"is: \", a+b)\n",
    "print(\"Subtraction of\",a,\"and\",3,\"is: \", a-b)\n",
    "print(\"Multiplication of\",4,\"and\",3,\"is: \", a*b)\n",
    "print(\"Addition of\",a,\"and\",b,\"is: \", a**b)\n",
    "print(\"Division of\",a,\"and\",b,\"is: \", a/b)"
   ]
  },
  {
   "cell_type": "markdown",
   "metadata": {},
   "source": [
    "problem: when we do division why we get in a result in floating number"
   ]
  },
  {
   "cell_type": "code",
   "execution_count": 2,
   "metadata": {},
   "outputs": [
    {
     "data": {
      "text/plain": [
       "14"
      ]
     },
     "execution_count": 2,
     "metadata": {},
     "output_type": "execute_result"
    }
   ],
   "source": [
    "def calculate(num1,op,num2):\n",
    "    if op == '+':\n",
    "        return num1 + num2\n",
    "    elif op == '-':\n",
    "        return num1 - num2\n",
    "    elif op == '*':\n",
    "        return num1 * num2\n",
    "    elif op == '/':\n",
    "        return num1 / num2\n",
    "    else:\n",
    "        print(\"invalid operation\")\n",
    "\n",
    "\n",
    "\n",
    "num1 = int(input(\"Enter the first number: \"))\n",
    "op = input(\"which operations you want to perform(+,-,*,/): \")\n",
    "num2 = int(input(\"Enter the second number: \"))\n",
    "calculate(num1,op,num2)\n"
   ]
  }
 ],
 "metadata": {
  "kernelspec": {
   "display_name": "Python 3",
   "language": "python",
   "name": "python3"
  },
  "language_info": {
   "codemirror_mode": {
    "name": "ipython",
    "version": 3
   },
   "file_extension": ".py",
   "mimetype": "text/x-python",
   "name": "python",
   "nbconvert_exporter": "python",
   "pygments_lexer": "ipython3",
   "version": "3.11.4"
  }
 },
 "nbformat": 4,
 "nbformat_minor": 2
}
