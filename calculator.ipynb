{
 "cells": [
  {
   "cell_type": "code",
   "execution_count": null,
   "metadata": {},
   "outputs": [],
   "source": [
    "# Create a calculator capable of performing addition, subtraction, multiplication and division operations on two numbers.\n",
    "a = int(input(\"Enter the First number: \"))\n",
    "b = int(input(\"Enter the second number: \"))\n",
    "\n",
    "\n",
    "print(\"Addition of\",a,\"and\",b,\"is: \", a+b)\n",
    "print(\"Subtraction of\",a,\"and\",3,\"is: \", a-b)\n",
    "print(\"Multiplication of\",4,\"and\",3,\"is: \", a*b)\n",
    "print(\"Addition of\",a,\"and\",b,\"is: \", a**b)\n",
    "print(\"Division of\",a,\"and\",b,\"is: \", a/b)"
   ]
  }
 ],
 "metadata": {
  "language_info": {
   "name": "python"
  }
 },
 "nbformat": 4,
 "nbformat_minor": 2
}
