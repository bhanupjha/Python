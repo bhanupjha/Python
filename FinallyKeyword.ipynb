{
 "cells": [
  {
   "cell_type": "code",
   "execution_count": null,
   "metadata": {},
   "outputs": [],
   "source": [
    "try:\n",
    "    l1 = [2,5,7,9,4]\n",
    "    num = int(input(\"Enter the index: \"))\n",
    "    print(l1[num])\n",
    "except:\n",
    "    print(\"some error occured\") \n",
    "\n",
    "finally:\n",
    "    print(\"I am always exceuted\")\n",
    "\n",
    "print(\"hello bhanu\")       \n",
    "\n"
   ]
  },
  {
   "cell_type": "code",
   "execution_count": null,
   "metadata": {},
   "outputs": [],
   "source": [
    "def fun1():\n",
    "    try:\n",
    "        l1 = [2,5,7,9,4]\n",
    "        num = int(input(\"Enter the index: \"))\n",
    "        print(l1[num])\n",
    "        return 1\n",
    "    except:\n",
    "        print(\"some error occured\") \n",
    "        return 0\n",
    "\n",
    "    finally:\n",
    "        print(\"I am always exceuted\") # Once the finally block is executed, control is transferred to another block, and any code after it is skipped\n",
    "\n",
    "    print(\"hello bhanu\")  # this statement is skipped  \n",
    "\n",
    "\n",
    "x = fun1()\n",
    "print(x)\n"
   ]
  },
  {
   "cell_type": "code",
   "execution_count": null,
   "metadata": {},
   "outputs": [],
   "source": [
    "try:\n",
    "    num = int(input(\"Enter an integer: \"))\n",
    "except ValueError:\n",
    "    print(\"Numbered entered is not an integer\") # if the input is  string it raise value error\n",
    "else:\n",
    "    print(\"Integer Accepted\")\n",
    "finally:\n",
    "    print(\"This block is always executed\")            "
   ]
  }
 ],
 "metadata": {
  "kernelspec": {
   "display_name": "Python 3",
   "language": "python",
   "name": "python3"
  },
  "language_info": {
   "codemirror_mode": {
    "name": "ipython",
    "version": 3
   },
   "file_extension": ".py",
   "mimetype": "text/x-python",
   "name": "python",
   "nbconvert_exporter": "python",
   "pygments_lexer": "ipython3",
   "version": "3.11.4"
  }
 },
 "nbformat": 4,
 "nbformat_minor": 2
}
