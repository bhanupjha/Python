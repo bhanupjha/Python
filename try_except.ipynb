{
 "cells": [
  {
   "cell_type": "code",
   "execution_count": null,
   "metadata": {},
   "outputs": [],
   "source": [
    "num  = input(\"Enter the number: \")\n",
    "print(f\"Multiplication table of {num} is: \")\n",
    "for i in range(1,11):\n",
    "    print(f\"{int(num)} * {i} = {int(num)*i}\")\n",
    "print(\"some inportant lines of code\")    \n",
    "print(\"End of pogram\") "
   ]
  },
  {
   "cell_type": "code",
   "execution_count": null,
   "metadata": {},
   "outputs": [],
   "source": [
    "# if i give input as a string it throw value error, we handle it through try and except\n",
    "num  = input(\"Enter the number: \")\n",
    "print(f\"Multiplication table of {num} is: \")\n",
    "try:\n",
    "  for i in range(1,11):\n",
    "    print(f\"{int(num)} * {i} = {int(num)*i}\")\n",
    "except:\n",
    "  print(\"Invalid input\")    \n",
    "print(\"some inportant lines of code\")    \n",
    "print(\"End of pogram\")  "
   ]
  },
  {
   "cell_type": "code",
   "execution_count": null,
   "metadata": {},
   "outputs": [],
   "source": [
    "# specific type of error handled\n",
    "try:\n",
    "    num = int(input(\"Enter an integer: \"))\n",
    "    a = [6, 3]  # it is a list\n",
    "    print(a[num])  # print the index of list\n",
    "except ValueError: # it handle if the user enters a non-integer\n",
    "    print(\"Number entered is not an integer.\")\n",
    "    \n",
    "except IndexError: # it handle if the user enters an index that is not present in the list\n",
    "  print(\"Index Error\")"
   ]
  }
 ],
 "metadata": {
  "kernelspec": {
   "display_name": "Python 3",
   "language": "python",
   "name": "python3"
  },
  "language_info": {
   "codemirror_mode": {
    "name": "ipython",
    "version": 3
   },
   "file_extension": ".py",
   "mimetype": "text/x-python",
   "name": "python",
   "nbconvert_exporter": "python",
   "pygments_lexer": "ipython3",
   "version": "3.11.4"
  }
 },
 "nbformat": 4,
 "nbformat_minor": 2
}
