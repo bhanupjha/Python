{
 "cells": [
  {
   "cell_type": "code",
   "execution_count": 1,
   "metadata": {},
   "outputs": [
    {
     "name": "stdout",
     "output_type": "stream",
     "text": [
      "You monthly salary:  60000\n"
     ]
    },
    {
     "ename": "ValueError",
     "evalue": "Not a valid salary, join other company",
     "output_type": "error",
     "traceback": [
      "\u001b[1;31m---------------------------------------------------------------------------\u001b[0m",
      "\u001b[1;31mValueError\u001b[0m                                Traceback (most recent call last)",
      "Cell \u001b[1;32mIn[1], line 4\u001b[0m\n\u001b[0;32m      2\u001b[0m \u001b[38;5;28mprint\u001b[39m(\u001b[38;5;124m\"\u001b[39m\u001b[38;5;124mYou monthly salary: \u001b[39m\u001b[38;5;124m\"\u001b[39m, salary)\n\u001b[0;32m      3\u001b[0m \u001b[38;5;28;01mif\u001b[39;00m \u001b[38;5;129;01mnot\u001b[39;00m \u001b[38;5;241m100000\u001b[39m \u001b[38;5;241m<\u001b[39m salary \u001b[38;5;241m<\u001b[39m \u001b[38;5;241m10000000\u001b[39m:\n\u001b[1;32m----> 4\u001b[0m     \u001b[38;5;28;01mraise\u001b[39;00m \u001b[38;5;167;01mValueError\u001b[39;00m(\u001b[38;5;124m\"\u001b[39m\u001b[38;5;124mNot a valid salary, join other company\u001b[39m\u001b[38;5;124m\"\u001b[39m)\n\u001b[0;32m      5\u001b[0m \u001b[38;5;28;01melse\u001b[39;00m:\n\u001b[0;32m      6\u001b[0m     \u001b[38;5;28mprint\u001b[39m(\u001b[38;5;124m\"\u001b[39m\u001b[38;5;124myour salary is good\u001b[39m\u001b[38;5;124m\"\u001b[39m)\n",
      "\u001b[1;31mValueError\u001b[0m: Not a valid salary, join other company"
     ]
    }
   ],
   "source": [
    "salary = int(input(\"Enter salary amount: \"))\n",
    "print(\"You monthly salary: \", salary)\n",
    "if not 100000 < salary < 10000000:\n",
    "    raise ValueError(\"Not a valid salary, join other company\")\n",
    "else:\n",
    "    print(\"your salary is good\")"
   ]
  },
  {
   "cell_type": "code",
   "execution_count": 5,
   "metadata": {},
   "outputs": [
    {
     "name": "stdout",
     "output_type": "stream",
     "text": [
      "Error: invalid literal for int() with base 10: 'hhh'\n"
     ]
    }
   ],
   "source": [
    "# def main():\n",
    "#   a = input(\"Enter any value between 5 and 9\")\n",
    "  \n",
    "#   if a == \"quit\":\n",
    "#     quit()\n",
    "#   elif(int(a)<5  or int(a)>9):\n",
    "#     raise  ValueError(\"Value should be between 5 and 9\") \n",
    "#   else:\n",
    "#         print(\"Input value:\", a)\n",
    "\n",
    "\n",
    "# main()\n",
    "\n",
    "\n",
    "\n",
    "def main():\n",
    "    a = input(\"Enter any value between 5 and 9: \")\n",
    "    \n",
    "    if a == \"quit\":\n",
    "        quit()\n",
    "    elif int(a) < 5 or int(a) > 9:\n",
    "        raise ValueError(\"Value should be between 5 and 9\")\n",
    "    else:\n",
    "        print(\"Input value:\", a)\n",
    "\n",
    "# try:\n",
    "#     main()\n",
    "# except ValueError as ve:\n",
    "#     print(\"Error:\", ve)\n",
    "# except KeyboardInterrupt:\n",
    "#     print(\"\\nProgram terminated by user.\")\n",
    "\n"
   ]
  }
 ],
 "metadata": {
  "kernelspec": {
   "display_name": "Python 3",
   "language": "python",
   "name": "python3"
  },
  "language_info": {
   "codemirror_mode": {
    "name": "ipython",
    "version": 3
   },
   "file_extension": ".py",
   "mimetype": "text/x-python",
   "name": "python",
   "nbconvert_exporter": "python",
   "pygments_lexer": "ipython3",
   "version": "3.11.4"
  }
 },
 "nbformat": 4,
 "nbformat_minor": 2
}
