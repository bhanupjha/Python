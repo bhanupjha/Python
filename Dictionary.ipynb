{
 "cells": [
  {
   "cell_type": "code",
   "execution_count": 1,
   "metadata": {},
   "outputs": [
    {
     "name": "stdout",
     "output_type": "stream",
     "text": [
      "{'name': 'karan', 'age': 19, 'eligible': True}\n"
     ]
    }
   ],
   "source": [
    "# Dictionary are ordered collection of data items\n",
    "# Dictionary items are key-value pairs that are seperated by commas and enclosed with {} \n",
    "info = {'name': 'karan', 'age': 19, 'eligible': True}\n",
    "print(info)"
   ]
  },
  {
   "cell_type": "code",
   "execution_count": 6,
   "metadata": {},
   "outputs": [
    {
     "name": "stdout",
     "output_type": "stream",
     "text": [
      "karan\n",
      "True\n"
     ]
    }
   ],
   "source": [
    "# Accessing single values\n",
    "\n",
    "print(info['name'])  # using square bracket\n",
    "print(info.get('eligible'))  # using get() method"
   ]
  },
  {
   "cell_type": "code",
   "execution_count": 7,
   "metadata": {},
   "outputs": [
    {
     "name": "stdout",
     "output_type": "stream",
     "text": [
      "dict_values(['karan', 19, True])\n"
     ]
    }
   ],
   "source": [
    "# Accessing multiple values\n",
    "\n",
    "print(info.values())"
   ]
  },
  {
   "cell_type": "code",
   "execution_count": 8,
   "metadata": {},
   "outputs": [
    {
     "name": "stdout",
     "output_type": "stream",
     "text": [
      "dict_keys(['name', 'age', 'eligible'])\n"
     ]
    }
   ],
   "source": [
    "# Accessing keys\n",
    "\n",
    "print(info.keys())"
   ]
  },
  {
   "cell_type": "code",
   "execution_count": 11,
   "metadata": {},
   "outputs": [
    {
     "name": "stdout",
     "output_type": "stream",
     "text": [
      "dict_items([('name', 'karan'), ('age', 19), ('eligible', True)])\n"
     ]
    }
   ],
   "source": [
    "# Accessing key-value pairs\n",
    "\n",
    "print(info.items())"
   ]
  }
 ],
 "metadata": {
  "kernelspec": {
   "display_name": "Python 3",
   "language": "python",
   "name": "python3"
  },
  "language_info": {
   "codemirror_mode": {
    "name": "ipython",
    "version": 3
   },
   "file_extension": ".py",
   "mimetype": "text/x-python",
   "name": "python",
   "nbconvert_exporter": "python",
   "pygments_lexer": "ipython3",
   "version": "3.11.4"
  }
 },
 "nbformat": 4,
 "nbformat_minor": 2
}
