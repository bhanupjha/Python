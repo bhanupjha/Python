{
 "cells": [
  {
   "cell_type": "code",
   "execution_count": null,
   "metadata": {},
   "outputs": [],
   "source": [
    "# else used with the for\n",
    "# else block will be executed after all the iteration are completed\n",
    "\n",
    "for i in range(5):\n",
    "    print(i)\n",
    "else:\n",
    "    print(\"No i is present\")    "
   ]
  },
  {
   "cell_type": "code",
   "execution_count": null,
   "metadata": {},
   "outputs": [],
   "source": [
    "for i in []:\n",
    "    print(i)\n",
    "else:\n",
    "    print(\"No i is present\")    "
   ]
  },
  {
   "cell_type": "code",
   "execution_count": null,
   "metadata": {},
   "outputs": [],
   "source": [
    "#  important\n",
    "\n",
    "for i in range(5):\n",
    "    print(i)\n",
    "    if i == 4:\n",
    "        break\n",
    "else:\n",
    "    print(\"No i is present\")"
   ]
  },
  {
   "cell_type": "code",
   "execution_count": null,
   "metadata": {},
   "outputs": [],
   "source": [
    "# else used with while\n",
    "\n",
    "i = 0\n",
    "while i<=5:\n",
    "    print(i)\n",
    "    i = i + 1\n",
    "    if i == 5:\n",
    "      break\n",
    "else:\n",
    "    print(\"No i is present\")"
   ]
  },
  {
   "cell_type": "code",
   "execution_count": null,
   "metadata": {},
   "outputs": [],
   "source": [
    "#The .format(x+1) part takes the value of x+1 and replaces the {} with that value.\n",
    "for x in range(10):\n",
    "    print(\"Iteration no. {} for loop\".format(x + 1)) \n",
    "else:\n",
    "    print(\"else block in loop\")\n",
    "print(\"out of loop\")   "
   ]
  }
 ],
 "metadata": {
  "kernelspec": {
   "display_name": "Python 3",
   "language": "python",
   "name": "python3"
  },
  "language_info": {
   "codemirror_mode": {
    "name": "ipython",
    "version": 3
   },
   "file_extension": ".py",
   "mimetype": "text/x-python",
   "name": "python",
   "nbconvert_exporter": "python",
   "pygments_lexer": "ipython3",
   "version": "3.11.4"
  }
 },
 "nbformat": 4,
 "nbformat_minor": 2
}
