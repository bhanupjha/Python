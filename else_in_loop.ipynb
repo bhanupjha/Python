{
 "cells": [
  {
   "cell_type": "code",
   "execution_count": 4,
   "metadata": {},
   "outputs": [
    {
     "name": "stdout",
     "output_type": "stream",
     "text": [
      "0\n",
      "1\n",
      "2\n",
      "3\n",
      "4\n",
      "No i is present\n"
     ]
    }
   ],
   "source": [
    "# else used with the for\n",
    "# else block will be executed after all the iteration are completed\n",
    "\n",
    "for i in range(5):\n",
    "    print(i)\n",
    "else:\n",
    "    print(\"No i is present\")    "
   ]
  },
  {
   "cell_type": "code",
   "execution_count": 5,
   "metadata": {},
   "outputs": [
    {
     "name": "stdout",
     "output_type": "stream",
     "text": [
      "No i is present\n"
     ]
    }
   ],
   "source": [
    "for i in []:\n",
    "    print(i)\n",
    "else:\n",
    "    print(\"No i is present\")    "
   ]
  },
  {
   "cell_type": "code",
   "execution_count": 10,
   "metadata": {},
   "outputs": [
    {
     "name": "stdout",
     "output_type": "stream",
     "text": [
      "0\n",
      "1\n",
      "2\n",
      "3\n",
      "4\n"
     ]
    }
   ],
   "source": [
    "#  important\n",
    "\n",
    "for i in range(5):\n",
    "    print(i)\n",
    "    if i == 4:\n",
    "        break\n",
    "else:\n",
    "    print(\"No i is present\")"
   ]
  },
  {
   "cell_type": "code",
   "execution_count": 14,
   "metadata": {},
   "outputs": [
    {
     "name": "stdout",
     "output_type": "stream",
     "text": [
      "0\n",
      "1\n",
      "2\n",
      "3\n",
      "4\n"
     ]
    }
   ],
   "source": [
    "# else used with while\n",
    "\n",
    "i = 0\n",
    "while i<=5:\n",
    "    print(i)\n",
    "    i = i + 1\n",
    "    if i == 5:\n",
    "      break\n",
    "else:\n",
    "    print(\"No i is present\")"
   ]
  },
  {
   "cell_type": "code",
   "execution_count": 19,
   "metadata": {},
   "outputs": [
    {
     "name": "stdout",
     "output_type": "stream",
     "text": [
      "Iteration no. 1 for loop\n",
      "Iteration no. 2 for loop\n",
      "Iteration no. 3 for loop\n",
      "Iteration no. 4 for loop\n",
      "Iteration no. 5 for loop\n",
      "Iteration no. 6 for loop\n",
      "Iteration no. 7 for loop\n",
      "Iteration no. 8 for loop\n",
      "Iteration no. 9 for loop\n",
      "Iteration no. 10 for loop\n",
      "else block in loop\n",
      "out of loop\n"
     ]
    }
   ],
   "source": [
    "#The .format(x+1) part takes the value of x+1 and replaces the {} with that value.\n",
    "for x in range(10):\n",
    "    print(\"Iteration no. {} for loop\".format(x + 1)) \n",
    "else:\n",
    "    print(\"else block in loop\")\n",
    "print(\"out of loop\")        "
   ]
  }
 ],
 "metadata": {
  "kernelspec": {
   "display_name": "Python 3",
   "language": "python",
   "name": "python3"
  },
  "language_info": {
   "codemirror_mode": {
    "name": "ipython",
    "version": 3
   },
   "file_extension": ".py",
   "mimetype": "text/x-python",
   "name": "python",
   "nbconvert_exporter": "python",
   "pygments_lexer": "ipython3",
   "version": "3.11.4"
  }
 },
 "nbformat": 4,
 "nbformat_minor": 2
}
