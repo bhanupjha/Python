{
 "cells": [
  {
   "cell_type": "code",
   "execution_count": null,
   "metadata": {},
   "outputs": [],
   "source": [
    "# without Enumerate function\n",
    "\n",
    "marks = [34, 76, 23, 98, 34, 90]\n",
    "\n",
    "index = 0\n",
    "for mark in marks:\n",
    "    print(mark)\n",
    "    if (index == 3):\n",
    "        print(\"Hello, Bhanu!\")\n",
    "    index += 1"
   ]
  },
  {
   "cell_type": "code",
   "execution_count": null,
   "metadata": {},
   "outputs": [],
   "source": [
    "# using Enumerate function\n",
    "\n",
    "marks = [34, 76, 23, 98, 34, 90]\n",
    "\n",
    "for index,mark in enumerate(marks):\n",
    "    print(mark)\n",
    "    if (index == 3):\n",
    "        print(\"Hello, Bhanu!\")"
   ]
  },
  {
   "cell_type": "code",
   "execution_count": null,
   "metadata": {},
   "outputs": [],
   "source": [
    "# Loop over a list and print the index and value of each element\n",
    "fruits = ['apple', 'banana', 'mango']\n",
    "\n",
    "for index, fruit in enumerate(fruits):\n",
    "    print(index, fruit)"
   ]
  },
  {
   "cell_type": "code",
   "execution_count": null,
   "metadata": {},
   "outputs": [],
   "source": [
    "# Loop over a list and print the index (starting at 1) and value of each element\n",
    "fruits = ['apple', 'banana', 'mango']\n",
    "\n",
    "for index, fruit in enumerate(fruits, start=1):\n",
    "    print(index, fruit)"
   ]
  },
  {
   "cell_type": "code",
   "execution_count": null,
   "metadata": {},
   "outputs": [],
   "source": [
    "fruits = ['apple', 'banana', 'mango']\n",
    "\n",
    "for index, fruit in enumerate(fruits):\n",
    "    print(f'{index+1}: {fruit}')\n",
    "\n",
    "# for index, fruit in enumerate(fruits, start=1):\n",
    "#     print(f'{index}: {fruit}')    "
   ]
  },
  {
   "cell_type": "code",
   "execution_count": null,
   "metadata": {},
   "outputs": [],
   "source": [
    "# Loop over a tuple and print the index and value of each element\n",
    "colors = ('red', 'green', 'blue')\n",
    "\n",
    "for index, color in enumerate(colors):\n",
    "    print(index, color)"
   ]
  },
  {
   "cell_type": "code",
   "execution_count": null,
   "metadata": {},
   "outputs": [],
   "source": [
    "# Loop over a string and print the index and value of each character\n",
    "s = \"hello\"\n",
    "\n",
    "for index, c in enumerate(s):\n",
    "    print(index, c)"
   ]
  }
 ],
 "metadata": {
  "kernelspec": {
   "display_name": "Python 3",
   "language": "python",
   "name": "python3"
  },
  "language_info": {
   "codemirror_mode": {
    "name": "ipython",
    "version": 3
   },
   "file_extension": ".py",
   "mimetype": "text/x-python",
   "name": "python",
   "nbconvert_exporter": "python",
   "pygments_lexer": "ipython3",
   "version": "3.11.4"
  }
 },
 "nbformat": 4,
 "nbformat_minor": 2
}
