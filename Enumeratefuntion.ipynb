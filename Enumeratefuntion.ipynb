{
 "cells": [
  {
   "cell_type": "code",
   "execution_count": 20,
   "metadata": {},
   "outputs": [
    {
     "name": "stdout",
     "output_type": "stream",
     "text": [
      "34\n",
      "76\n",
      "23\n",
      "98\n",
      "34\n",
      "90\n"
     ]
    }
   ],
   "source": [
    "marks = [34, 76, 23, 98, 34, 90]\n",
    "\n",
    "index = 0\n",
    "for mark in marks:\n",
    "    print(mark)\n",
    "    if (index == 3):\n",
    "        print(\"Hello, Bhanu\")\n",
    "        index += 1"
   ]
  }
 ],
 "metadata": {
  "kernelspec": {
   "display_name": "Python 3",
   "language": "python",
   "name": "python3"
  },
  "language_info": {
   "codemirror_mode": {
    "name": "ipython",
    "version": 3
   },
   "file_extension": ".py",
   "mimetype": "text/x-python",
   "name": "python",
   "nbconvert_exporter": "python",
   "pygments_lexer": "ipython3",
   "version": "3.11.4"
  }
 },
 "nbformat": 4,
 "nbformat_minor": 2
}
