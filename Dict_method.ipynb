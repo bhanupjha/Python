{
 "cells": [
  {
   "cell_type": "code",
   "execution_count": 11,
   "metadata": {},
   "outputs": [
    {
     "name": "stdout",
     "output_type": "stream",
     "text": [
      "{'name': 'Bhanu', 'Age': 19, 'eligible': True}\n",
      "{'name': 'Bhanu', 'Age': 20, 'eligible': True, 'DOB': 2003}\n"
     ]
    }
   ],
   "source": [
    "# update() method\n",
    "\n",
    "info = {'name' : 'Bhanu', 'Age' : 19, 'eligible' : True}\n",
    "print(info)\n",
    "info.update({'Age' : 20})\n",
    "info.update({'DOB' : 2003})\n",
    "print(info)"
   ]
  },
  {
   "cell_type": "code",
   "execution_count": 15,
   "metadata": {},
   "outputs": [
    {
     "name": "stdout",
     "output_type": "stream",
     "text": [
      "{'name': 'Bhanu', 'Age': 20, 'eligible': True, 'DOB': 2003, 'name1': 'Shashi'}\n"
     ]
    }
   ],
   "source": [
    "info1 = {'name1' : 'Shashi'}\n",
    "info.update(info1)\n",
    "print(info)"
   ]
  },
  {
   "cell_type": "code",
   "execution_count": 4,
   "metadata": {},
   "outputs": [
    {
     "name": "stdout",
     "output_type": "stream",
     "text": [
      "{}\n"
     ]
    }
   ],
   "source": [
    "# clear() method\n",
    "\n",
    "info.clear() # clear the element of dictionary\n",
    "print(info)  # we get empty dict{}"
   ]
  },
  {
   "cell_type": "code",
   "execution_count": 42,
   "metadata": {},
   "outputs": [
    {
     "name": "stdout",
     "output_type": "stream",
     "text": [
      "{'name': 'Bhanu', 'Age': 19, 'eligible': True}\n",
      "{'name': 'Bhanu', 'Age': 19}\n"
     ]
    }
   ],
   "source": [
    "# pop() method \n",
    "\n",
    "info = {'name' : 'Bhanu', 'Age' : 19, 'eligible' : True}\n",
    "print(info)\n",
    "info.pop('eligible') # it pop the given parameter item\n",
    "print(info)"
   ]
  },
  {
   "cell_type": "code",
   "execution_count": 43,
   "metadata": {},
   "outputs": [
    {
     "name": "stdout",
     "output_type": "stream",
     "text": [
      "{'name': 'Bhanu'}\n"
     ]
    }
   ],
   "source": [
    "# popitem() method\n",
    "\n",
    "info.popitem() # it pop the last item\n",
    "print(info)"
   ]
  },
  {
   "cell_type": "code",
   "execution_count": 44,
   "metadata": {},
   "outputs": [],
   "source": [
    "# del() method\n",
    "\n",
    "del info # delete the dict , we get an error\n",
    "# print(info) # NameError: name 'info' is not defined"
   ]
  }
 ],
 "metadata": {
  "kernelspec": {
   "display_name": "Python 3",
   "language": "python",
   "name": "python3"
  },
  "language_info": {
   "codemirror_mode": {
    "name": "ipython",
    "version": 3
   },
   "file_extension": ".py",
   "mimetype": "text/x-python",
   "name": "python",
   "nbconvert_exporter": "python",
   "pygments_lexer": "ipython3",
   "version": "3.11.4"
  }
 },
 "nbformat": 4,
 "nbformat_minor": 2
}
